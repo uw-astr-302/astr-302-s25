{
 "cells": [
  {
   "cell_type": "markdown",
   "metadata": {
    "slideshow": {
     "slide_type": "skip"
    }
   },
   "source": [
    "How to turn this notebook into slides? Run:\n",
    "```\n",
    "$ ipython nbconvert --to slides lecture.ipynb  --post serve\n",
    "```\n",
    "OR (better), install the RISE Jupyter extension:\n",
    "```\n",
    "conda install -c damianavila82 rise\n",
    "```\n",
    "and hit the 'Slideshow' toolbar button."
   ]
  },
  {
   "cell_type": "markdown",
   "metadata": {
    "slideshow": {
     "slide_type": "skip"
    }
   },
   "source": [
    "This notebook uses the [python-markdown](http://jupyter-contrib-nbextensions.readthedocs.io/en/latest/nbextensions/python-markdown/readme.html) extension, allowing it to run code inline with Markdown text.\n",
    "\n",
    "To install this extension, and the [configurator GUI](https://github.com/Jupyter-contrib/jupyter_nbextensions_configurator), while Jupyter is ***not*** running run:\n",
    "```bash\n",
    "conda install -c defaults -c conda-forge jupyter_contrib_nbextensions\n",
    "conda install -c defaults -c conda-forge jupyter_nbextensions_configurator\n",
    "```\n",
    "and then enable python-markdown in the `Nbextensions` tab that will show up next time you start Jupyter."
   ]
  },
  {
   "cell_type": "markdown",
   "metadata": {
    "slideshow": {
     "slide_type": "skip"
    }
   },
   "source": [
    "To have the markup in all cells show up in this notebook, you need to mark it as 'Trusted'. The notebook will be marked as trusted once you re-evaluate all cells."
   ]
  },
  {
   "cell_type": "markdown",
   "metadata": {
    "slideshow": {
     "slide_type": "skip"
    }
   },
   "source": [
    "Some helper functions to make it easier to show code listings."
   ]
  },
  {
   "cell_type": "code",
   "execution_count": 1,
   "metadata": {
    "slideshow": {
     "slide_type": "skip"
    }
   },
   "outputs": [],
   "source": [
    "def show_code_listing(fn):\n",
    "    from IPython.display import display, Markdown\n",
    "    return Markdown( '```python\\n{}\\n```'.format(open(fn).read()))\n",
    "\n",
    "def execute_and_show(cmdline):\n",
    "    from IPython.display import display, Markdown\n",
    "    res = ! $cmdline\n",
    "    res = '\\n'.join(['    ' + line for line in res])\n",
    "    print('```bash\\n    ${}\\n{}\\n```'.format(cmdline, res))"
   ]
  },
  {
   "cell_type": "markdown",
   "metadata": {
    "slideshow": {
     "slide_type": "subslide"
    }
   },
   "source": [
    "## Problem 5: A Better Way to Deal with Errors -- Exceptions\n",
    "\n",
    "Note how most of our code now is just error checking and handling. The actual purpose of our code is completely hidden by all the error checking code!\n",
    "\n",
    "This doesn't have to be the case. In Python, it is possible to elegantly separate the error checking code from the main algorithm through the use of [exceptions](https://docs.python.org/3/tutorial/errors.html#exceptions). The big idea is that code can _raise an exception_ when some assumption or rule is violated.\n",
    "\n",
    "Example:"
   ]
  },
  {
   "cell_type": "code",
   "execution_count": 2,
   "metadata": {},
   "outputs": [
    {
     "ename": "ZeroDivisionError",
     "evalue": "division by zero",
     "output_type": "error",
     "traceback": [
      "\u001b[0;31m---------------------------------------------------------------------------\u001b[0m",
      "\u001b[0;31mZeroDivisionError\u001b[0m                         Traceback (most recent call last)",
      "Cell \u001b[0;32mIn[2], line 5\u001b[0m\n\u001b[1;32m      2\u001b[0m     \u001b[38;5;28;01mreturn\u001b[39;00m a \u001b[38;5;241m/\u001b[39m b\n\u001b[1;32m      4\u001b[0m \u001b[38;5;66;03m#print(\"Division result: {}\".format(div(1, 2)))\u001b[39;00m\n\u001b[0;32m----> 5\u001b[0m \u001b[38;5;28mprint\u001b[39m(\u001b[38;5;124m\"\u001b[39m\u001b[38;5;124mDivision result: \u001b[39m\u001b[38;5;132;01m{}\u001b[39;00m\u001b[38;5;124m\"\u001b[39m\u001b[38;5;241m.\u001b[39mformat(\u001b[43mdiv\u001b[49m\u001b[43m(\u001b[49m\u001b[38;5;241;43m1\u001b[39;49m\u001b[43m,\u001b[49m\u001b[43m \u001b[49m\u001b[38;5;241;43m0\u001b[39;49m\u001b[43m)\u001b[49m))\n",
      "Cell \u001b[0;32mIn[2], line 2\u001b[0m, in \u001b[0;36mdiv\u001b[0;34m(a, b)\u001b[0m\n\u001b[1;32m      1\u001b[0m \u001b[38;5;28;01mdef\u001b[39;00m \u001b[38;5;21mdiv\u001b[39m(a, b):\n\u001b[0;32m----> 2\u001b[0m     \u001b[38;5;28;01mreturn\u001b[39;00m \u001b[43ma\u001b[49m\u001b[43m \u001b[49m\u001b[38;5;241;43m/\u001b[39;49m\u001b[43m \u001b[49m\u001b[43mb\u001b[49m\n",
      "\u001b[0;31mZeroDivisionError\u001b[0m: division by zero"
     ]
    }
   ],
   "source": [
    "def div(a, b):\n",
    "    return a / b\n",
    "\n",
    "#print(\"Division result: {}\".format(div(1, 2)))\n",
    "print(\"Division result: {}\".format(div(1, 0)))"
   ]
  },
  {
   "cell_type": "markdown",
   "metadata": {
    "variables": {
     " execute_and_show('./prog3.py 2 x') ": "<pre><code class=\"cm-s-ipython language-bash\">    $./prog3.py 2 x\n    Traceback (most recent call last):\n      File &quot;./prog3.py&quot;, line 6, in &lt;module&gt;\n        b = float(sys.argv[2])\n    ValueError: could not convert string to float: &#39;x&#39;</code></pre>\n"
    }
   },
   "source": [
    "When an exception is raised, Python stops executing the program and returns immediately from the called function. If an exception is not *caught*, it will interupt the program and print out a _stack trace_ (the output above) that gives you an idea of where an exception occured.\n",
    "\n",
    "You've encountered this already:\n",
    "{{ execute_and_show('./prog3.py 2 x') }}\n",
    "The output above is the result of an _uncaught exception_.\n",
    "\n",
    "The idea is that you can \"catch\" these exceptions, and handle the error condition gracefully (i.e., by writing out a nice error message). This is accomplished through the use of a \"`try ... except`\" clause:"
   ]
  },
  {
   "cell_type": "code",
   "execution_count": 3,
   "metadata": {},
   "outputs": [
    {
     "name": "stdout",
     "output_type": "stream",
     "text": [
      "Division result: 0.5\n",
      "division by zero\n",
      "I'm not dead!\n"
     ]
    }
   ],
   "source": [
    "def div(a, b):\n",
    "    return a / b\n",
    "\n",
    "try:\n",
    "    print(\"Division result: {}\".format(div(1, 2)))\n",
    "    print(\"Division result: {}\".format(div(1, 0)))\n",
    "    print(\"Division result: {}\".format(div(1, 3)))\n",
    "except ZeroDivisionError as err:\n",
    "    print(err)\n",
    "    \n",
    "print(\"I'm not dead!\")"
   ]
  },
  {
   "cell_type": "markdown",
   "metadata": {},
   "source": [
    "What's happened:\n",
    "* We've now wrapped our calls to `div()` in a `try...except` block.\n",
    "* When we attempted to do something \"illegal\" (divide by zero), an exception was raised nd the program immediately jumped to the first `except` block that matched the type of the raised exception. We say that an exception has been _handled_.\n",
    "* After that, execution continued (note how it printed the message about not being dead)\n",
    "* Finally, note how `div(1, 3)` line has not been invoked -- because an exception has been raised, the execution continued in the `except` block. Python does not \"go back\" after handling the exception!"
   ]
  },
  {
   "cell_type": "markdown",
   "metadata": {},
   "source": [
    "### Exceptions are the \"Pythonic Way\"\n",
    "\n",
    "This is the preferred way to signal and check for errors in Python. Virtually all errors (\"exceptional situations\") are reported by raising an exception."
   ]
  },
  {
   "cell_type": "markdown",
   "metadata": {},
   "source": [
    "Here's another example -- indexing past the end of a list:"
   ]
  },
  {
   "cell_type": "code",
   "execution_count": 4,
   "metadata": {},
   "outputs": [
    {
     "ename": "IndexError",
     "evalue": "list index out of range",
     "output_type": "error",
     "traceback": [
      "\u001b[0;31m---------------------------------------------------------------------------\u001b[0m",
      "\u001b[0;31mIndexError\u001b[0m                                Traceback (most recent call last)",
      "Cell \u001b[0;32mIn[4], line 2\u001b[0m\n\u001b[1;32m      1\u001b[0m a \u001b[38;5;241m=\u001b[39m [\u001b[38;5;124m\"\u001b[39m\u001b[38;5;124ma\u001b[39m\u001b[38;5;124m\"\u001b[39m, \u001b[38;5;124m\"\u001b[39m\u001b[38;5;124mb\u001b[39m\u001b[38;5;124m\"\u001b[39m, \u001b[38;5;124m\"\u001b[39m\u001b[38;5;124mc\u001b[39m\u001b[38;5;124m\"\u001b[39m]\n\u001b[0;32m----> 2\u001b[0m \u001b[43ma\u001b[49m\u001b[43m[\u001b[49m\u001b[38;5;241;43m4\u001b[39;49m\u001b[43m]\u001b[49m\n",
      "\u001b[0;31mIndexError\u001b[0m: list index out of range"
     ]
    }
   ],
   "source": [
    "a = [\"a\", \"b\", \"c\"]\n",
    "a[4]"
   ]
  },
  {
   "cell_type": "markdown",
   "metadata": {},
   "source": [
    "We can have multiple `except` blocks, to handle different kinds of exceptions:"
   ]
  },
  {
   "cell_type": "code",
   "execution_count": 5,
   "metadata": {},
   "outputs": [
    {
     "name": "stdout",
     "output_type": "stream",
     "text": [
      "division by zero\n",
      "moving on!\n"
     ]
    }
   ],
   "source": [
    "arr = [0, 1, 2, 3]\n",
    "i, j = 2, 0\n",
    "try:\n",
    "\n",
    "    print(arr[i] / arr[j])\n",
    "\n",
    "except ZeroDivisionError as err:\n",
    "    print(err)\n",
    "except IndexError as err:\n",
    "    print(err)\n",
    "    \n",
    "print(\"moving on!\")"
   ]
  },
  {
   "cell_type": "markdown",
   "metadata": {},
   "source": [
    "Compare that to:"
   ]
  },
  {
   "cell_type": "code",
   "execution_count": 6,
   "metadata": {},
   "outputs": [
    {
     "name": "stdout",
     "output_type": "stream",
     "text": [
      "list index out of range\n",
      "moving on!\n"
     ]
    }
   ],
   "source": [
    "arr = [0, 1, 2, 3]\n",
    "i, j = 1, 5\n",
    "\n",
    "if i < 0 or i >= len(arr) or j < 0 or j >= len(arr):\n",
    "    print(\"list index out of range\")\n",
    "elif arr[j] == 0:\n",
    "    print(\"division by zero\")\n",
    "else:\n",
    "    print(arr[i] / arr[j])\n",
    "\n",
    "print(\"moving on!\")"
   ]
  },
  {
   "cell_type": "markdown",
   "metadata": {},
   "source": [
    "Note:\n",
    "* The code using exceptions is _cleaner_ -- it neatly separates the part that does work (divides two numbers) from the part that handles exceptional situations.\n",
    "* The code using exceptions is _shorter_ -- shorter coe, fewer bugs.\n",
    "* The philosophical approach to errors is fundamentally different:\n",
    "  1. the implementation with `if` statements tries to _avoid_ even trying to break the rules (dividing by zero, indexing out of bounds, ...)\n",
    "  1. the implementation with exceptions detects when the rules were attempted to be broken and reacts to that situation."
   ]
  },
  {
   "cell_type": "markdown",
   "metadata": {},
   "source": [
    "## It's Easier to Ask for Forgiveness than Permission\n",
    "\n",
    "What we've done above is an example of the [***EAFP***](https://docs.python.org/3.6/glossary.html) coding style:\n",
    "\n",
    ">   It's **E**asier to **A**sk for **F**orgiveness, than **P**ermission.\n",
    ">\n",
    "\n",
    "that is core to well-written, readable, Python code."
   ]
  },
  {
   "cell_type": "markdown",
   "metadata": {},
   "source": [
    "How do you know what exceptions you could (should) be catching?\n",
    "* The documentation of (typically) tells you which exceptions any given function may raise.\n",
    "* Look at Python's [list of built-in exceptions](https://docs.python.org/3/library/exceptions.html)\n",
    "* Try it!"
   ]
  },
  {
   "cell_type": "markdown",
   "metadata": {},
   "source": [
    "## You Can Also Raise Exceptions Explicitly"
   ]
  },
  {
   "cell_type": "code",
   "execution_count": 7,
   "metadata": {},
   "outputs": [
    {
     "ename": "Exception",
     "evalue": "Unknown spectral type 'X'",
     "output_type": "error",
     "traceback": [
      "\u001b[0;31m---------------------------------------------------------------------------\u001b[0m",
      "\u001b[0;31mException\u001b[0m                                 Traceback (most recent call last)",
      "Cell \u001b[0;32mIn[7], line 18\u001b[0m\n\u001b[1;32m     14\u001b[0m         \u001b[38;5;28;01mraise\u001b[39;00m \u001b[38;5;167;01mException\u001b[39;00m(\u001b[38;5;124mf\u001b[39m\u001b[38;5;124m\"\u001b[39m\u001b[38;5;124mUnknown spectral type \u001b[39m\u001b[38;5;124m'\u001b[39m\u001b[38;5;132;01m{\u001b[39;00mspectype\u001b[38;5;132;01m}\u001b[39;00m\u001b[38;5;124m'\u001b[39m\u001b[38;5;124m\"\u001b[39m)\n\u001b[1;32m     16\u001b[0m     \u001b[38;5;28;01mreturn\u001b[39;00m _type_to_temp[spectype]\n\u001b[0;32m---> 18\u001b[0m \u001b[43mspectral_type_temperature\u001b[49m\u001b[43m(\u001b[49m\u001b[38;5;124;43m\"\u001b[39;49m\u001b[38;5;124;43mX\u001b[39;49m\u001b[38;5;124;43m\"\u001b[39;49m\u001b[43m)\u001b[49m\n",
      "Cell \u001b[0;32mIn[7], line 14\u001b[0m, in \u001b[0;36mspectral_type_temperature\u001b[0;34m(spectype)\u001b[0m\n\u001b[1;32m      3\u001b[0m _type_to_temp \u001b[38;5;241m=\u001b[39m \u001b[38;5;28mdict\u001b[39m(\n\u001b[1;32m      4\u001b[0m     O\u001b[38;5;241m=\u001b[39m\u001b[38;5;241m54_000\u001b[39m,\n\u001b[1;32m      5\u001b[0m     B\u001b[38;5;241m=\u001b[39m\u001b[38;5;241m29_200\u001b[39m,\n\u001b[0;32m   (...)\u001b[0m\n\u001b[1;32m     10\u001b[0m     M\u001b[38;5;241m=\u001b[39m\u001b[38;5;241m3750\u001b[39m\n\u001b[1;32m     11\u001b[0m )\n\u001b[1;32m     13\u001b[0m \u001b[38;5;28;01mif\u001b[39;00m spectype \u001b[38;5;129;01mnot\u001b[39;00m \u001b[38;5;129;01min\u001b[39;00m _type_to_temp:\n\u001b[0;32m---> 14\u001b[0m     \u001b[38;5;28;01mraise\u001b[39;00m \u001b[38;5;167;01mException\u001b[39;00m(\u001b[38;5;124mf\u001b[39m\u001b[38;5;124m\"\u001b[39m\u001b[38;5;124mUnknown spectral type \u001b[39m\u001b[38;5;124m'\u001b[39m\u001b[38;5;132;01m{\u001b[39;00mspectype\u001b[38;5;132;01m}\u001b[39;00m\u001b[38;5;124m'\u001b[39m\u001b[38;5;124m\"\u001b[39m)\n\u001b[1;32m     16\u001b[0m \u001b[38;5;28;01mreturn\u001b[39;00m _type_to_temp[spectype]\n",
      "\u001b[0;31mException\u001b[0m: Unknown spectral type 'X'"
     ]
    }
   ],
   "source": [
    "def spectral_type_temperature(spectype):\n",
    "\n",
    "    _type_to_temp = dict(\n",
    "        O=54_000,\n",
    "        B=29_200,\n",
    "        A=9600,\n",
    "        F=7350,\n",
    "        G=6050,\n",
    "        K=5240,\n",
    "        M=3750\n",
    "    )\n",
    "\n",
    "    if spectype not in _type_to_temp:\n",
    "        raise Exception(f\"Unknown spectral type '{spectype}'\")\n",
    "\n",
    "    return _type_to_temp[spectype]\n",
    "\n",
    "spectral_type_temperature(\"X\")"
   ]
  },
  {
   "cell_type": "markdown",
   "metadata": {},
   "source": [
    "## Group Work\n",
    "\n",
    "Now back to our program (`prog5.py`): let's change it so that instead of the many if statements, we use exceptions.\n",
    "\n",
    "Hints:\n",
    "* You should `try` to access and convert the command line arguments to floating point numbers and use `except` to catch any errors and display error messages.\n",
    "* The `number_or_exit` function should go away."
   ]
  },
  {
   "cell_type": "markdown",
   "metadata": {
    "slideshow": {
     "slide_type": "subslide"
    }
   },
   "source": [
    "## Implementation"
   ]
  },
  {
   "cell_type": "code",
   "execution_count": null,
   "metadata": {},
   "outputs": [],
   "source": [
    "show_code_listing(\"prog8.py\")"
   ]
  },
  {
   "cell_type": "markdown",
   "metadata": {
    "slideshow": {
     "slide_type": "subslide"
    }
   },
   "source": [
    "Discusion:\n",
    "* This is _much_ cleaner now! Just a quick glance gives you an idea what this code does!\n",
    "* Exceptions are \"caught\" in a [`try-except` block](https://docs.python.org/3/tutorial/errors.html#handling-exceptions).\n",
    "* There was no need for the `number_or_exit()` function any more, or the messy loop, etc.!\n",
    "* The code is now much more [_Pythonic_](http://docs.python-guide.org/en/latest/writing/style/)."
   ]
  },
  {
   "cell_type": "markdown",
   "metadata": {},
   "source": [
    "Remember:\n",
    "\n",
    ">   It's **E**asier to **A**sk for **F**orgiveness, than **P**ermission.\n",
    ">\n",
    "\n",
    "This is the Pythonic Way!"
   ]
  },
  {
   "cell_type": "markdown",
   "metadata": {
    "slideshow": {
     "slide_type": "slide"
    },
    "variables": {
     " execute_and_show('./prog9.py 1.5 2.5 3.5 4.5') ": "<pre><code class=\"cm-s-ipython language-bash\">    $./prog9.py 1.5 2.5 3.5 4.5\n    59.0625</code></pre>\n"
    }
   },
   "source": [
    "## Problem 6: Product of all arguments\n",
    "\n",
    "Now let's extend the program to compute the _product_ of all arguments given on the command line. Example:\n",
    "{{ execute_and_show('./prog9.py 1.5 2.5 3.5 4.5') }}"
   ]
  },
  {
   "cell_type": "markdown",
   "metadata": {
    "slideshow": {
     "slide_type": "subslide"
    }
   },
   "source": [
    "## Implementation"
   ]
  },
  {
   "cell_type": "code",
   "execution_count": null,
   "metadata": {},
   "outputs": [],
   "source": [
    "show_code_listing(\"prog9.py\")"
   ]
  },
  {
   "cell_type": "markdown",
   "metadata": {},
   "source": [
    "Discusion:\n",
    "* The change was pretty straightforward; just a `for`-loop over all arguments\n",
    "* No need to catch the `IndexError` exception any more"
   ]
  },
  {
   "cell_type": "markdown",
   "metadata": {
    "slideshow": {
     "slide_type": "subslide"
    }
   },
   "source": [
    "## Implementation v2\n",
    "\n",
    "Let's take a slightly different approach. Note we can view this as a two-part problem:\n",
    "\n",
    "1. Converting the list of command line arguments from strings to floats\n",
    "1. Summing up the resulting list.\n",
    "\n",
    "So another solution could be:"
   ]
  },
  {
   "cell_type": "code",
   "execution_count": null,
   "metadata": {},
   "outputs": [],
   "source": [
    "show_code_listing(\"prog10.py\")"
   ]
  },
  {
   "cell_type": "markdown",
   "metadata": {},
   "source": [
    "Discusion:\n",
    "* We've created two functions: `to_floats`, to solve the conversion, and `prod`, to compute the product.\n",
    "* In `to_floats()`, we used the `append` function to add new items to the list.\n",
    "\n",
    "\n",
    "* In some ways, this code is _worse_ than the implementation we've had before (longer, likely a bit slower), **but it's easier to maintain in the long-run** as it clearly **separates the code that does the work (the algorithms, the \"business logic\"), from the glue that ties it together**."
   ]
  },
  {
   "cell_type": "markdown",
   "metadata": {
    "slideshow": {
     "slide_type": "subslide"
    }
   },
   "source": [
    "## Implementation v3 (with list comprehensions)"
   ]
  },
  {
   "cell_type": "code",
   "execution_count": 5,
   "metadata": {},
   "outputs": [
    {
     "data": {
      "text/markdown": [
       "```python\n",
       "#!/usr/bin/env python\n",
       "\n",
       "import sys\n",
       "\n",
       "def exit_with_msg(msg):\n",
       "    \"\"\" Prints a usage message and exits the program. \"\"\"\n",
       "    print(\"{}\\n\\nUsage: {} <arg1> <arg2>\".format(msg, sys.argv[0]))\n",
       "    exit(0)\n",
       "\n",
       "def to_floats(lst):\n",
       "    \"\"\" Returns a list of strings corresponding to a list of floats \"\"\"\n",
       "    return [ float(arg) for arg in lst ]\n",
       "\n",
       "def prod(lst):\n",
       "    \"\"\" Computes and returns the product of a list \"\"\"\n",
       "    res = 1.\n",
       "    for x in lst: res *= x\n",
       "    return res\n",
       "\n",
       "#### The main program begins here\n",
       "\n",
       "try:\n",
       "    float_list = to_floats( sys.argv[1:] )\n",
       "    product = prod( float_list )\n",
       "    print(product)\n",
       "except ValueError as e:\n",
       "    exit_with_msg(\"Error: {}. All arguments must be numbers.\".format(e))\n",
       "\n",
       "```"
      ],
      "text/plain": [
       "<IPython.core.display.Markdown object>"
      ]
     },
     "execution_count": 5,
     "metadata": {},
     "output_type": "execute_result"
    }
   ],
   "source": [
    "show_code_listing(\"prog11.py\")"
   ]
  },
  {
   "cell_type": "markdown",
   "metadata": {},
   "source": [
    "And that's all there is to it ! (well... maybe 90%... :)) "
   ]
  },
  {
   "cell_type": "markdown",
   "metadata": {},
   "source": [
    "## For next time\n",
    "\n",
    "Read this introduction to Object Oriented Programming:\n",
    "\n",
    "https://realpython.com/python3-object-oriented-programming/\n",
    "\n",
    "and work through the examples."
   ]
  }
 ],
 "metadata": {
  "celltoolbar": "Slideshow",
  "kernelspec": {
   "display_name": "Python 3 (ipykernel)",
   "language": "python",
   "name": "python3"
  },
  "language_info": {
   "codemirror_mode": {
    "name": "ipython",
    "version": 3
   },
   "file_extension": ".py",
   "mimetype": "text/x-python",
   "name": "python",
   "nbconvert_exporter": "python",
   "pygments_lexer": "ipython3",
   "version": "3.11.5"
  },
  "livereveal": {
   "scroll": true,
   "start_slideshow_at": "selected"
  }
 },
 "nbformat": 4,
 "nbformat_minor": 4
}
